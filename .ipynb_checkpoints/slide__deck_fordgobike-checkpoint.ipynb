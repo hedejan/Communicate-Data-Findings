{
 "cells": [
  {
   "cell_type": "markdown",
   "metadata": {
    "slideshow": {
     "slide_type": "slide"
    }
   },
   "source": [
    "# Ford Go-Bike 2018 User Behavior Trends & Analysis\n",
    "## by Hussain Balhareth"
   ]
  },
  {
   "cell_type": "markdown",
   "metadata": {
    "slideshow": {
     "slide_type": "slide"
    }
   },
   "source": [
    "## Investigation Overview\n",
    "\n",
    "> I selected Ford GoBike dataset in order to investigate and analyse the business from different perspectives. Depending on the data available, I was curious to raise and keep raising questions that I was able to answer using different sort of visualization tools. I eventually presented a few graphs that I believe are going to give the audience a great hint at the amount of insights we could draw from such raw data.\n",
    "\n",
    "## Dataset Overview\n",
    "\n",
    "> Initially, there are 1,863,721 bike trips in the dataset with 16 features in 2 main data types, string and numeric. Some of the main features of interest i found was user behavior time based (whether member or casual, young,midage or olders). The main variable is the duration and its variation duration different time of day, day of week, and month of year. The data is still needs to be wrangled and cleaned before it's ready for analysis."
   ]
  },
  {
   "cell_type": "code",
   "execution_count": 1,
   "metadata": {
    "slideshow": {
     "slide_type": "skip"
    }
   },
   "outputs": [],
   "source": [
    "# import all packages and set plots to be embedded inline\n",
    "import numpy as np\n",
    "import pandas as pd\n",
    "pd.set_option(\"display.max_columns\", 20)\n",
    "pd.set_option('display.float_format', lambda x: '%.2f' % x)\n",
    "import matplotlib.pyplot as plt\n",
    "import seaborn as sb\n",
    "sb.set_style(\"whitegrid\", {'axes.grid' : True,'axes.edgecolor':'none'})\n",
    "\n",
    "%matplotlib inline\n",
    "\n",
    "# suppress warnings from final output\n",
    "import warnings\n",
    "warnings.simplefilter(\"ignore\")"
   ]
  },
  {
   "cell_type": "code",
   "execution_count": 2,
   "metadata": {
    "slideshow": {
     "slide_type": "skip"
    }
   },
   "outputs": [
    {
     "name": "stdout",
     "output_type": "stream",
     "text": [
      "<class 'pandas.core.frame.DataFrame'>\n",
      "RangeIndex: 1714549 entries, 0 to 1714548\n",
      "Data columns (total 16 columns):\n",
      " #   Column            Dtype  \n",
      "---  ------            -----  \n",
      " 0   bike_id           int64  \n",
      " 1   user_type         object \n",
      " 2   member_gender     object \n",
      " 3   age               int64  \n",
      " 4   age_group         object \n",
      " 5   duration_min      float64\n",
      " 6   start_time        object \n",
      " 7   start_hour        int64  \n",
      " 8   start_day         object \n",
      " 9   start_month       object \n",
      " 10  end_time          object \n",
      " 11  end_hour          int64  \n",
      " 12  end_day           object \n",
      " 13  end_month         object \n",
      " 14  start_station_id  int64  \n",
      " 15  end_station_id    int64  \n",
      "dtypes: float64(1), int64(6), object(9)\n",
      "memory usage: 209.3+ MB\n"
     ]
    }
   ],
   "source": [
    "# load in the dataset into a pandas dataframe\n",
    "df = pd.read_csv('data_clean.csv', )\n",
    "df.info()"
   ]
  },
  {
   "cell_type": "code",
   "execution_count": 3,
   "metadata": {},
   "outputs": [],
   "source": [
    "# set data types\n",
    "df['bike_id'] = df['bike_id'].astype(str)\n",
    "df['start_station_id'] = df['start_station_id'].astype(str)\n",
    "df['end_station_id'] = df['end_station_id'].astype(str)\n",
    "\n",
    "df['user_type'] = df['user_type'].astype('category')\n",
    "df['member_gender'] = df['member_gender'].astype('category')\n",
    "df['age'] = df['age'].astype('uint16')\n",
    "\n",
    "df['duration_min'] = pd.to_numeric(df['duration_min'], downcast='float')\n",
    "\n",
    "df['start_time'] = df['start_time'].astype('datetime64')\n",
    "df['end_time'] = df['end_time'].astype('datetime64')\n",
    "\n"
   ]
  },
  {
   "cell_type": "code",
   "execution_count": 4,
   "metadata": {},
   "outputs": [],
   "source": [
    "# set data types\n",
    "\n",
    "# create an ordinal categorical time variables\n",
    "age_group = [\"15-19\", \"20-24\", \"25-29\", \"30-34\", \"35-39\", \"40-44\", \n",
    "             \"45-49\", \"50-54\", \"55-59\", \"60-64\", \"65-69\", \"70-74\", \n",
    "             \"75-79\", \"80-84\", \"85-89\", \"90-94\", \"95-99\", \"100+\"]\n",
    "hours = ['0', '1', '2', '3', '4', '5', '6', '7', '8', '9', \n",
    "         '10', '11', '12', '13', '14', '15', '16', '17', \n",
    "         '18', '19', '20', '21', '22', '23']\n",
    "weekdays = ['Mon', 'Tue', 'Wed', 'Thu', 'Fri', 'Sat', 'Sun']\n",
    "months = ['Jan', 'Feb', 'Mar', 'Apr', 'May', 'Jun','Jul','Aug','Sep','Oct','Nov','Dec']\n",
    "\n",
    "# 1st set two columns to str to match hours dtype\n",
    "df.start_hour = df.start_hour.astype(str)\n",
    "df.end_hour = df.end_hour.astype(str)\n",
    "\n",
    "# assign the categories to each column name\n",
    "ordinal_var_dict = {'age_group':age_group,\n",
    "                    'start_hour' : hours,\n",
    "                    'end_hour' : hours,\n",
    "                    'start_day': weekdays,\n",
    "                    'end_day': weekdays,\n",
    "                    'start_month': months,\n",
    "                    'end_month': months}\n",
    "\n",
    "for var in ordinal_var_dict:\n",
    "    ordered_var = pd.api.types.CategoricalDtype(ordered = True,\n",
    "                                                categories = ordinal_var_dict[var])\n",
    "    df[var] = df[var].astype(ordered_var)"
   ]
  },
  {
   "cell_type": "code",
   "execution_count": 5,
   "metadata": {},
   "outputs": [
    {
     "name": "stdout",
     "output_type": "stream",
     "text": [
      "df_str = ['bike_id', 'start_station_id', 'end_station_id']\n",
      "df_num = ['age', 'duration_min']\n",
      "df_time = ['start_time', 'end_time']\n",
      "df_cat = ['user_type', 'member_gender', 'age_group', 'start_hour', 'start_day', 'start_month', 'end_hour', 'end_day', 'end_month']\n"
     ]
    }
   ],
   "source": [
    "# create DataFrames by dtype\n",
    "\n",
    "# string\n",
    "df_str = df.select_dtypes(include= object)\n",
    "print('df_str =',list(df_str.columns))\n",
    "\n",
    "# numeric\n",
    "df_num = df.select_dtypes(include= ['uint16','float32'])\n",
    "print('df_num =',list(df_num.columns))\n",
    "\n",
    "# datetime\n",
    "df_time = df.select_dtypes(include= 'datetime64')\n",
    "print('df_time =',list(df_time.columns))\n",
    "\n",
    "# category\n",
    "df_cat = df.select_dtypes(include= 'category')\n",
    "print('df_cat =',list(df_cat.columns))"
   ]
  },
  {
   "cell_type": "code",
   "execution_count": 6,
   "metadata": {},
   "outputs": [
    {
     "name": "stdout",
     "output_type": "stream",
     "text": [
      "<class 'pandas.core.frame.DataFrame'>\n",
      "RangeIndex: 1714549 entries, 0 to 1714548\n",
      "Data columns (total 16 columns):\n",
      " #   Column            Dtype         \n",
      "---  ------            -----         \n",
      " 0   bike_id           object        \n",
      " 1   user_type         category      \n",
      " 2   member_gender     category      \n",
      " 3   age               uint16        \n",
      " 4   age_group         category      \n",
      " 5   duration_min      float32       \n",
      " 6   start_time        datetime64[ns]\n",
      " 7   start_hour        category      \n",
      " 8   start_day         category      \n",
      " 9   start_month       category      \n",
      " 10  end_time          datetime64[ns]\n",
      " 11  end_hour          category      \n",
      " 12  end_day           category      \n",
      " 13  end_month         category      \n",
      " 14  start_station_id  object        \n",
      " 15  end_station_id    object        \n",
      "dtypes: category(9), datetime64[ns](2), float32(1), object(3), uint16(1)\n",
      "memory usage: 89.9+ MB\n"
     ]
    }
   ],
   "source": [
    "df.info()"
   ]
  },
  {
   "cell_type": "markdown",
   "metadata": {},
   "source": [
    "_______"
   ]
  },
  {
   "cell_type": "markdown",
   "metadata": {
    "slideshow": {
     "slide_type": "notes"
    }
   },
   "source": [
    "> Note that the above cells have been set as \"Skip\"-type slides. That means\n",
    "that when the notebook is rendered as http slides, those cells won't show up."
   ]
  },
  {
   "cell_type": "markdown",
   "metadata": {
    "slideshow": {
     "slide_type": "slide"
    }
   },
   "source": [
    "## Use count & percentage by user type & gender\n",
    "\n",
    "> Here I observe that more than 88% of users are subscribers and more than 73% are male users."
   ]
  },
  {
   "cell_type": "code",
   "execution_count": 7,
   "metadata": {},
   "outputs": [
    {
     "data": {
      "image/png": "[encoded data removed]",
      "text/plain": [
       "<Figure size 1080x504 with 2 Axes>"
      ]
     },
     "metadata": {
      "needs_background": "light"
     },
     "output_type": "display_data"
    }
   ],
   "source": [
    "# create a figure and set size\n",
    "\n",
    "plt.figure(figsize=(15,7))\n",
    "\n",
    "# ---------------------------------------------------\n",
    "plt.subplot(121)\n",
    "base_color = sb.color_palette()[0]\n",
    "sb.countplot(data = df, x = 'user_type', color = base_color)\n",
    "\n",
    "# add annotations\n",
    "n_points = df.shape[0]\n",
    "cat_counts = df['user_type'].value_counts()\n",
    "locs, labels = plt.xticks() # get the current tick locations and labels\n",
    "\n",
    "# loop through each pair of locations and labels\n",
    "for loc, label in zip(locs, labels):\n",
    "\n",
    "    # get the text property for the label to get the correct count\n",
    "    count = cat_counts[label.get_text()]\n",
    "    pct_string = '{:0.1f}%'.format(100*count/n_points)\n",
    "\n",
    "    # print the annotation just below the top of the bar\n",
    "    plt.text(loc, count-8, pct_string, ha = 'center', color = 'black')\n",
    "    \n",
    "plt.grid(axis='y', alpha=0.2)\n",
    "plt.xlabel('User type')\n",
    "plt.ylabel('Count')\n",
    "plt.title('Proportion and use count by user type', size=15);\n",
    "# ------------------------------------------------------------- \n",
    "plt.subplot(122)\n",
    "base_color = sb.color_palette()[0]\n",
    "sb.countplot(data = df, x = 'member_gender', color = base_color)\n",
    "\n",
    "# add annotations\n",
    "n_points = df.shape[0]\n",
    "cat_counts = df['member_gender'].value_counts()\n",
    "locs, labels = plt.xticks() # get the current tick locations and labels\n",
    "\n",
    "# loop through each pair of locations and labels\n",
    "for loc, label in zip(locs, labels):\n",
    "\n",
    "    # get the text property for the label to get the correct count\n",
    "    count = cat_counts[label.get_text()]\n",
    "    pct_string = '{:0.1f}%'.format(100*count/n_points)\n",
    "\n",
    "    # print the annotation just below the top of the bar\n",
    "    plt.text(loc, count-8, pct_string, ha = 'center', color = 'black')\n",
    "    \n",
    "plt.grid(axis='y', alpha=0.2)\n",
    "plt.xlabel('Member gender')\n",
    "plt.ylabel('Count')\n",
    "plt.title('Proportion and use count by gender', size=15);"
   ]
  },
  {
   "cell_type": "code",
   "execution_count": 8,
   "metadata": {},
   "outputs": [
    {
     "data": {
      "text/html": [
       "<div>\n",
       "<style scoped>\n",
       "    .dataframe tbody tr th:only-of-type {\n",
       "        vertical-align: middle;\n",
       "    }\n",
       "\n",
       "    .dataframe tbody tr th {\n",
       "        vertical-align: top;\n",
       "    }\n",
       "\n",
       "    .dataframe thead th {\n",
       "        text-align: right;\n",
       "    }\n",
       "</style>\n",
       "<table border=\"1\" class=\"dataframe\">\n",
       "  <thead>\n",
       "    <tr style=\"text-align: right;\">\n",
       "      <th></th>\n",
       "      <th>bike_id</th>\n",
       "    </tr>\n",
       "    <tr>\n",
       "      <th>user_type</th>\n",
       "      <th></th>\n",
       "    </tr>\n",
       "  </thead>\n",
       "  <tbody>\n",
       "    <tr>\n",
       "      <th>Customer</th>\n",
       "      <td>195134</td>\n",
       "    </tr>\n",
       "    <tr>\n",
       "      <th>Subscriber</th>\n",
       "      <td>1519415</td>\n",
       "    </tr>\n",
       "  </tbody>\n",
       "</table>\n",
       "</div>"
      ],
      "text/plain": [
       "            bike_id\n",
       "user_type          \n",
       "Customer     195134\n",
       "Subscriber  1519415"
      ]
     },
     "execution_count": 8,
     "metadata": {},
     "output_type": "execute_result"
    }
   ],
   "source": [
    "df[['bike_id','user_type']].groupby(by='user_type').count()"
   ]
  },
  {
   "cell_type": "code",
   "execution_count": 9,
   "metadata": {},
   "outputs": [
    {
     "data": {
      "text/html": [
       "<div>\n",
       "<style scoped>\n",
       "    .dataframe tbody tr th:only-of-type {\n",
       "        vertical-align: middle;\n",
       "    }\n",
       "\n",
       "    .dataframe tbody tr th {\n",
       "        vertical-align: top;\n",
       "    }\n",
       "\n",
       "    .dataframe thead th {\n",
       "        text-align: right;\n",
       "    }\n",
       "</style>\n",
       "<table border=\"1\" class=\"dataframe\">\n",
       "  <thead>\n",
       "    <tr style=\"text-align: right;\">\n",
       "      <th></th>\n",
       "      <th>bike_id</th>\n",
       "    </tr>\n",
       "    <tr>\n",
       "      <th>member_gender</th>\n",
       "      <th></th>\n",
       "    </tr>\n",
       "  </thead>\n",
       "  <tbody>\n",
       "    <tr>\n",
       "      <th>Female</th>\n",
       "      <td>435010</td>\n",
       "    </tr>\n",
       "    <tr>\n",
       "      <th>Male</th>\n",
       "      <td>1279539</td>\n",
       "    </tr>\n",
       "  </tbody>\n",
       "</table>\n",
       "</div>"
      ],
      "text/plain": [
       "               bike_id\n",
       "member_gender         \n",
       "Female          435010\n",
       "Male           1279539"
      ]
     },
     "execution_count": 9,
     "metadata": {},
     "output_type": "execute_result"
    }
   ],
   "source": [
    "df[['bike_id','member_gender']].groupby(by='member_gender').count()"
   ]
  },
  {
   "cell_type": "markdown",
   "metadata": {
    "slideshow": {
     "slide_type": "subslide"
    }
   },
   "source": [
    "________________________________"
   ]
  },
  {
   "cell_type": "markdown",
   "metadata": {
    "slideshow": {
     "slide_type": "slide"
    }
   },
   "source": [
    "## Mean duration by user type & gender\n",
    "\n",
    "> Here I observe that the mean duration of use by user type is different than the count perspective where the casual customer is >25 minutes while the subscriber is 11 minutes on average.\n",
    "Also, I observe that females spent the most on average with 14.6 minutes."
   ]
  },
  {
   "cell_type": "code",
   "execution_count": 10,
   "metadata": {},
   "outputs": [
    {
     "data": {
      "image/png": "[encoded data removed]",
      "text/plain": [
       "<Figure size 1080x504 with 2 Axes>"
      ]
     },
     "metadata": {
      "needs_background": "light"
     },
     "output_type": "display_data"
    }
   ],
   "source": [
    "plt.figure(figsize=(15,7))\n",
    "\n",
    "# mean duration (min) by user type: member vs. casual\n",
    "plt.subplot(121)\n",
    "base_color = sb.color_palette()[0]\n",
    "sb.barplot(data = df, x = 'user_type', y = 'duration_min', color = base_color)\n",
    "plt.title('Mean duration by user type',size = 20);\n",
    "\n",
    "# mean duration (min) by gender: male vs. female\n",
    "plt.subplot(122)\n",
    "base_color = sb.color_palette()[0]\n",
    "sb.barplot(data = df, x = 'member_gender', y = 'duration_min', color = base_color)\n",
    "plt.title('Mean duration by gender',size = 20);"
   ]
  },
  {
   "cell_type": "code",
   "execution_count": 11,
   "metadata": {},
   "outputs": [
    {
     "data": {
      "text/html": [
       "<div>\n",
       "<style scoped>\n",
       "    .dataframe tbody tr th:only-of-type {\n",
       "        vertical-align: middle;\n",
       "    }\n",
       "\n",
       "    .dataframe tbody tr th {\n",
       "        vertical-align: top;\n",
       "    }\n",
       "\n",
       "    .dataframe thead th {\n",
       "        text-align: right;\n",
       "    }\n",
       "</style>\n",
       "<table border=\"1\" class=\"dataframe\">\n",
       "  <thead>\n",
       "    <tr style=\"text-align: right;\">\n",
       "      <th></th>\n",
       "      <th>duration_min</th>\n",
       "    </tr>\n",
       "    <tr>\n",
       "      <th>user_type</th>\n",
       "      <th></th>\n",
       "    </tr>\n",
       "  </thead>\n",
       "  <tbody>\n",
       "    <tr>\n",
       "      <th>Customer</th>\n",
       "      <td>25.29</td>\n",
       "    </tr>\n",
       "    <tr>\n",
       "      <th>Subscriber</th>\n",
       "      <td>10.98</td>\n",
       "    </tr>\n",
       "  </tbody>\n",
       "</table>\n",
       "</div>"
      ],
      "text/plain": [
       "            duration_min\n",
       "user_type               \n",
       "Customer           25.29\n",
       "Subscriber         10.98"
      ]
     },
     "execution_count": 11,
     "metadata": {},
     "output_type": "execute_result"
    }
   ],
   "source": [
    "df[['user_type', 'duration_min']].groupby(by='user_type').mean()"
   ]
  },
  {
   "cell_type": "code",
   "execution_count": 12,
   "metadata": {},
   "outputs": [
    {
     "data": {
      "text/html": [
       "<div>\n",
       "<style scoped>\n",
       "    .dataframe tbody tr th:only-of-type {\n",
       "        vertical-align: middle;\n",
       "    }\n",
       "\n",
       "    .dataframe tbody tr th {\n",
       "        vertical-align: top;\n",
       "    }\n",
       "\n",
       "    .dataframe thead th {\n",
       "        text-align: right;\n",
       "    }\n",
       "</style>\n",
       "<table border=\"1\" class=\"dataframe\">\n",
       "  <thead>\n",
       "    <tr style=\"text-align: right;\">\n",
       "      <th></th>\n",
       "      <th>duration_min</th>\n",
       "    </tr>\n",
       "    <tr>\n",
       "      <th>member_gender</th>\n",
       "      <th></th>\n",
       "    </tr>\n",
       "  </thead>\n",
       "  <tbody>\n",
       "    <tr>\n",
       "      <th>Female</th>\n",
       "      <td>14.61</td>\n",
       "    </tr>\n",
       "    <tr>\n",
       "      <th>Male</th>\n",
       "      <td>11.93</td>\n",
       "    </tr>\n",
       "  </tbody>\n",
       "</table>\n",
       "</div>"
      ],
      "text/plain": [
       "               duration_min\n",
       "member_gender              \n",
       "Female                14.61\n",
       "Male                  11.93"
      ]
     },
     "execution_count": 12,
     "metadata": {},
     "output_type": "execute_result"
    }
   ],
   "source": [
    "df[['member_gender', 'duration_min']].groupby(by='member_gender').mean()"
   ]
  },
  {
   "cell_type": "markdown",
   "metadata": {
    "slideshow": {
     "slide_type": "subslide"
    }
   },
   "source": [
    "____________________________"
   ]
  },
  {
   "cell_type": "markdown",
   "metadata": {
    "slideshow": {
     "slide_type": "slide"
    }
   },
   "source": [
    "## Use count & percentage by Age group\n",
    "\n",
    "> Here I observe that the group of majority use is '30-34' followed by '25-29'"
   ]
  },
  {
   "cell_type": "code",
   "execution_count": 13,
   "metadata": {},
   "outputs": [
    {
     "data": {
      "image/png": "[encoded data removed]",
      "text/plain": [
       "<Figure size 1080x504 with 1 Axes>"
      ]
     },
     "metadata": {
      "needs_background": "light"
     },
     "output_type": "display_data"
    }
   ],
   "source": [
    "# create the plot\n",
    "\n",
    "plt.figure(figsize=(15,7))\n",
    "\n",
    "base_color = sb.color_palette()[0]\n",
    "sb.countplot(data = df, x = 'age_group', color = base_color, order=age_group)\n",
    "\n",
    "# add annotations\n",
    "n_points = df.shape[0]\n",
    "cat_counts = df['age_group'].value_counts()\n",
    "locs, labels = plt.xticks() # get the current tick locations and labels\n",
    "\n",
    "# loop through each pair of locations and labels\n",
    "for loc, label in zip(locs, labels):\n",
    "\n",
    "    # get the text property for the label to get the correct count\n",
    "    count = cat_counts[label.get_text()]\n",
    "    pct_string = '{:0.1f}%'.format(100*count/n_points)\n",
    "\n",
    "    # print the annotation just below the top of the bar\n",
    "    plt.text(loc, count-8, pct_string, ha = 'center', color = 'black')\n",
    "    \n",
    "plt.grid(axis='y', alpha=0.2)\n",
    "plt.xlabel('age_group')\n",
    "plt.ylabel('Count')\n",
    "plt.title('Proportion and use count by age group', size=20);"
   ]
  },
  {
   "cell_type": "markdown",
   "metadata": {},
   "source": [
    "__________"
   ]
  },
  {
   "cell_type": "markdown",
   "metadata": {
    "slideshow": {
     "slide_type": "slide"
    }
   },
   "source": [
    "## Mean duration vs. Age group\n",
    "\n",
    "> Here we observe a different story compared to age groups by count '15-19' is the dominant age group in terms of average duration followed by '80-84' age group with '85-89' being the lowest."
   ]
  },
  {
   "cell_type": "code",
   "execution_count": 14,
   "metadata": {},
   "outputs": [
    {
     "data": {
      "image/png": "[encoded data removed]",
      "text/plain": [
       "<Figure size 1080x504 with 1 Axes>"
      ]
     },
     "metadata": {
      "needs_background": "light"
     },
     "output_type": "display_data"
    }
   ],
   "source": [
    "plt.figure(figsize=(15,7))\n",
    "\n",
    "base_color = sb.color_palette()[0]\n",
    "sb.barplot(data = df, x = 'age_group', y = 'duration_min', color = base_color)\n",
    "plt.xticks(rotation = 15)\n",
    "plt.ylabel('Average duration of use')\n",
    "plt.title('Age group vs. mean duration of use', size = 18)\n",
    "\n",
    "plt.show()"
   ]
  },
  {
   "cell_type": "code",
   "execution_count": 15,
   "metadata": {},
   "outputs": [
    {
     "data": {
      "text/html": [
       "<div>\n",
       "<style scoped>\n",
       "    .dataframe tbody tr th:only-of-type {\n",
       "        vertical-align: middle;\n",
       "    }\n",
       "\n",
       "    .dataframe tbody tr th {\n",
       "        vertical-align: top;\n",
       "    }\n",
       "\n",
       "    .dataframe thead th {\n",
       "        text-align: right;\n",
       "    }\n",
       "</style>\n",
       "<table border=\"1\" class=\"dataframe\">\n",
       "  <thead>\n",
       "    <tr style=\"text-align: right;\">\n",
       "      <th></th>\n",
       "      <th>duration_min</th>\n",
       "    </tr>\n",
       "    <tr>\n",
       "      <th>age_group</th>\n",
       "      <th></th>\n",
       "    </tr>\n",
       "  </thead>\n",
       "  <tbody>\n",
       "    <tr>\n",
       "      <th>15-19</th>\n",
       "      <td>16.65</td>\n",
       "    </tr>\n",
       "    <tr>\n",
       "      <th>20-24</th>\n",
       "      <td>13.39</td>\n",
       "    </tr>\n",
       "    <tr>\n",
       "      <th>25-29</th>\n",
       "      <td>12.60</td>\n",
       "    </tr>\n",
       "    <tr>\n",
       "      <th>30-34</th>\n",
       "      <td>12.16</td>\n",
       "    </tr>\n",
       "    <tr>\n",
       "      <th>35-39</th>\n",
       "      <td>12.19</td>\n",
       "    </tr>\n",
       "    <tr>\n",
       "      <th>40-44</th>\n",
       "      <td>11.97</td>\n",
       "    </tr>\n",
       "    <tr>\n",
       "      <th>45-49</th>\n",
       "      <td>13.16</td>\n",
       "    </tr>\n",
       "    <tr>\n",
       "      <th>50-54</th>\n",
       "      <td>12.82</td>\n",
       "    </tr>\n",
       "    <tr>\n",
       "      <th>55-59</th>\n",
       "      <td>13.98</td>\n",
       "    </tr>\n",
       "    <tr>\n",
       "      <th>60-64</th>\n",
       "      <td>13.35</td>\n",
       "    </tr>\n",
       "    <tr>\n",
       "      <th>65-69</th>\n",
       "      <td>13.32</td>\n",
       "    </tr>\n",
       "    <tr>\n",
       "      <th>70-74</th>\n",
       "      <td>11.27</td>\n",
       "    </tr>\n",
       "    <tr>\n",
       "      <th>75-79</th>\n",
       "      <td>11.92</td>\n",
       "    </tr>\n",
       "    <tr>\n",
       "      <th>80-84</th>\n",
       "      <td>14.89</td>\n",
       "    </tr>\n",
       "    <tr>\n",
       "      <th>85-89</th>\n",
       "      <td>8.29</td>\n",
       "    </tr>\n",
       "    <tr>\n",
       "      <th>90-94</th>\n",
       "      <td>12.01</td>\n",
       "    </tr>\n",
       "    <tr>\n",
       "      <th>95-99</th>\n",
       "      <td>9.21</td>\n",
       "    </tr>\n",
       "    <tr>\n",
       "      <th>100+</th>\n",
       "      <td>12.72</td>\n",
       "    </tr>\n",
       "  </tbody>\n",
       "</table>\n",
       "</div>"
      ],
      "text/plain": [
       "           duration_min\n",
       "age_group              \n",
       "15-19             16.65\n",
       "20-24             13.39\n",
       "25-29             12.60\n",
       "30-34             12.16\n",
       "35-39             12.19\n",
       "40-44             11.97\n",
       "45-49             13.16\n",
       "50-54             12.82\n",
       "55-59             13.98\n",
       "60-64             13.35\n",
       "65-69             13.32\n",
       "70-74             11.27\n",
       "75-79             11.92\n",
       "80-84             14.89\n",
       "85-89              8.29\n",
       "90-94             12.01\n",
       "95-99              9.21\n",
       "100+              12.72"
      ]
     },
     "execution_count": 15,
     "metadata": {},
     "output_type": "execute_result"
    }
   ],
   "source": [
    "df[['age_group','duration_min']].groupby(by='age_group').mean()"
   ]
  },
  {
   "cell_type": "markdown",
   "metadata": {},
   "source": [
    "_______"
   ]
  },
  {
   "cell_type": "markdown",
   "metadata": {
    "slideshow": {
     "slide_type": "slide"
    }
   },
   "source": [
    "## Duration vs. user type per gender\n",
    "\n",
    "> This visualisation tells the same story as the heatmap that the female customers have the highest mean duration."
   ]
  },
  {
   "cell_type": "code",
   "execution_count": 16,
   "metadata": {},
   "outputs": [
    {
     "data": {
      "image/png": "[encoded data removed]",
      "text/plain": [
       "<Figure size 720x504 with 1 Axes>"
      ]
     },
     "metadata": {
      "needs_background": "light"
     },
     "output_type": "display_data"
    }
   ],
   "source": [
    "plt.figure(figsize=(10,7))\n",
    "ax = sb.barplot(data = df, x = 'user_type', y = 'duration_min', hue = 'member_gender')\n",
    "ax.legend(loc = 'best', ncol = 3, framealpha = 1, title = 'member_gender');\n",
    "\n",
    "plt.title('Duration vs. user type per gender',size=18);"
   ]
  },
  {
   "cell_type": "code",
   "execution_count": 17,
   "metadata": {},
   "outputs": [
    {
     "data": {
      "text/html": [
       "<div>\n",
       "<style scoped>\n",
       "    .dataframe tbody tr th:only-of-type {\n",
       "        vertical-align: middle;\n",
       "    }\n",
       "\n",
       "    .dataframe tbody tr th {\n",
       "        vertical-align: top;\n",
       "    }\n",
       "\n",
       "    .dataframe thead th {\n",
       "        text-align: right;\n",
       "    }\n",
       "</style>\n",
       "<table border=\"1\" class=\"dataframe\">\n",
       "  <thead>\n",
       "    <tr style=\"text-align: right;\">\n",
       "      <th></th>\n",
       "      <th></th>\n",
       "      <th>duration_min</th>\n",
       "    </tr>\n",
       "    <tr>\n",
       "      <th>user_type</th>\n",
       "      <th>member_gender</th>\n",
       "      <th></th>\n",
       "    </tr>\n",
       "  </thead>\n",
       "  <tbody>\n",
       "    <tr>\n",
       "      <th rowspan=\"2\" valign=\"top\">Customer</th>\n",
       "      <th>Female</th>\n",
       "      <td>28.43</td>\n",
       "    </tr>\n",
       "    <tr>\n",
       "      <th>Male</th>\n",
       "      <td>23.78</td>\n",
       "    </tr>\n",
       "    <tr>\n",
       "      <th rowspan=\"2\" valign=\"top\">Subscriber</th>\n",
       "      <th>Female</th>\n",
       "      <td>12.26</td>\n",
       "    </tr>\n",
       "    <tr>\n",
       "      <th>Male</th>\n",
       "      <td>10.57</td>\n",
       "    </tr>\n",
       "  </tbody>\n",
       "</table>\n",
       "</div>"
      ],
      "text/plain": [
       "                          duration_min\n",
       "user_type  member_gender              \n",
       "Customer   Female                28.43\n",
       "           Male                  23.78\n",
       "Subscriber Female                12.26\n",
       "           Male                  10.57"
      ]
     },
     "execution_count": 17,
     "metadata": {},
     "output_type": "execute_result"
    }
   ],
   "source": [
    "df[['user_type','member_gender','duration_min']].groupby(by=['user_type','member_gender']).mean()"
   ]
  },
  {
   "cell_type": "markdown",
   "metadata": {},
   "source": [
    "_______"
   ]
  },
  {
   "cell_type": "markdown",
   "metadata": {
    "slideshow": {
     "slide_type": "slide"
    }
   },
   "source": [
    "## Use count & percentage per Weekday\n",
    "\n",
    "> Here I observe that the midweek has the largest proportion of use amongt the other weekdays, namely, Tuesdays, Wednesdays and Thursdays."
   ]
  },
  {
   "cell_type": "code",
   "execution_count": 18,
   "metadata": {},
   "outputs": [
    {
     "data": {
      "image/png": "[encoded data removed]",
      "text/plain": [
       "<Figure size 1080x504 with 2 Axes>"
      ]
     },
     "metadata": {
      "needs_background": "light"
     },
     "output_type": "display_data"
    }
   ],
   "source": [
    "# create the plot\n",
    "\n",
    "plt.figure(figsize=(15,7))\n",
    "\n",
    "plt.subplot(121)\n",
    "base_color = sb.color_palette()[0]\n",
    "sb.countplot(data = df, x = 'start_day', color = base_color)\n",
    "\n",
    "# add annotations\n",
    "n_points = df.shape[0]\n",
    "cat_counts = df['start_day'].value_counts()\n",
    "locs, labels = plt.xticks() # get the current tick locations and labels\n",
    "\n",
    "# loop through each pair of locations and labels\n",
    "for loc, label in zip(locs, labels):\n",
    "\n",
    "    # get the text property for the label to get the correct count\n",
    "    count = cat_counts[label.get_text()]\n",
    "    pct_string = '{:0.1f}%'.format(100*count/n_points)\n",
    "\n",
    "    # print the annotation just below the top of the bar\n",
    "    plt.text(loc, count-8, pct_string, ha = 'center', color = 'black')\n",
    "    \n",
    "plt.grid(axis='y', alpha=0.2)\n",
    "plt.xlabel('start_day')\n",
    "plt.ylabel('Count')\n",
    "plt.title('Proportion and use count during start day', size=15);\n",
    "#---------------------------------------------------------------------------\n",
    "plt.subplot(122)\n",
    "base_color = sb.color_palette()[0]\n",
    "sb.countplot(data = df, x = 'end_day', color = base_color)\n",
    "\n",
    "# add annotations\n",
    "n_points = df.shape[0]\n",
    "cat_counts = df['end_day'].value_counts()\n",
    "locs, labels = plt.xticks() # get the current tick locations and labels\n",
    "\n",
    "# loop through each pair of locations and labels\n",
    "for loc, label in zip(locs, labels):\n",
    "\n",
    "    # get the text property for the label to get the correct count\n",
    "    count = cat_counts[label.get_text()]\n",
    "    pct_string = '{:0.1f}%'.format(100*count/n_points)\n",
    "\n",
    "    # print the annotation just below the top of the bar\n",
    "    plt.text(loc, count-8, pct_string, ha = 'center', color = 'black')\n",
    "    \n",
    "plt.grid(axis='y', alpha=0.2)\n",
    "plt.xlabel('end_day')\n",
    "plt.ylabel('Count')\n",
    "plt.title('Proportion and use count during end day', size=15);"
   ]
  },
  {
   "cell_type": "markdown",
   "metadata": {},
   "source": [
    "________"
   ]
  },
  {
   "cell_type": "markdown",
   "metadata": {
    "slideshow": {
     "slide_type": "slide"
    }
   },
   "source": [
    "## Use count per weekday by user type\n",
    "\n",
    "> Another look at the use count behavior of both customer and subscriber along the weekdays. We notice a drop on the weekends for the subscribers while the trend in customers is more steady although smaller."
   ]
  },
  {
   "cell_type": "code",
   "execution_count": 19,
   "metadata": {},
   "outputs": [
    {
     "data": {
      "image/png": "[encoded data removed]",
      "text/plain": [
       "<Figure size 1296x432 with 1 Axes>"
      ]
     },
     "metadata": {
      "needs_background": "light"
     },
     "output_type": "display_data"
    }
   ],
   "source": [
    "plt.figure(figsize=(18,6))\n",
    "ax = sb.countplot(data = df, x = 'user_type', hue = 'start_day', hue_order=weekdays)\n",
    "ax.legend(loc = 'best', ncol = 3, framealpha = 1, title = 'user_type')\n",
    "plt.title('User type counts by weekday', size = 16)\n",
    "\n",
    "plt.show()"
   ]
  },
  {
   "cell_type": "markdown",
   "metadata": {},
   "source": [
    "__________"
   ]
  }
 ],
 "metadata": {
  "celltoolbar": "Slideshow",
  "kernelspec": {
   "display_name": "Python 3",
   "language": "python",
   "name": "python3"
  },
  "language_info": {
   "codemirror_mode": {
    "name": "ipython",
    "version": 3
   },
   "file_extension": ".py",
   "mimetype": "text/x-python",
   "name": "python",
   "nbconvert_exporter": "python",
   "pygments_lexer": "ipython3",
   "version": "3.7.7"
  }
 },
 "nbformat": 4,
 "nbformat_minor": 4
}
